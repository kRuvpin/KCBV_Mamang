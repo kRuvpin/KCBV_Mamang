{
  "nbformat": 4,
  "nbformat_minor": 0,
  "metadata": {
    "colab": {
      "name": "Salinan dari UAS KCBV",
      "provenance": [],
      "collapsed_sections": [
        "vE5CR1jtXFv6",
        "Uxwp-a54XGzO",
        "ORXtEuEHXq0c",
        "YcLLzB35X5kV",
        "Tnh2hHRKYqMq",
        "6o7Xa8n0bN0L"
      ],
      "include_colab_link": true
    },
    "kernelspec": {
      "name": "python3",
      "display_name": "Python 3"
    },
    "language_info": {
      "name": "python"
    }
  },
  "cells": [
    {
      "cell_type": "markdown",
      "metadata": {
        "id": "view-in-github",
        "colab_type": "text"
      },
      "source": [
        "<a href=\"https://colab.research.google.com/github/kRuvpin/KCBV_Mamang/blob/main/Salinan_dari_UAS_KCBV.ipynb\" target=\"_parent\"><img src=\"https://colab.research.google.com/assets/colab-badge.svg\" alt=\"Open In Colab\"/></a>"
      ]
    },
    {
      "cell_type": "markdown",
      "source": [
        "#Convolutional Neural Networks and Computer Vision with TensorFlow"
      ],
      "metadata": {
        "id": "Dt2iYLIYynyM"
      }
    },
    {
      "cell_type": "markdown",
      "source": [
        "## Get data"
      ],
      "metadata": {
        "id": "pfmbQmfGyt9s"
      }
    },
    {
      "cell_type": "code",
      "source": [
        "import zipfile\n",
        "# Download zip file of pizza_steak images\n",
        "!wget https://raw.githubusercontent.com/kRuvpin/KCBV_Mamang/main/gempa.zip \n",
        "\n",
        "# Unzip the downloaded file\n",
        "!unzip /content/gempa.zip"
      ],
      "metadata": {
        "colab": {
          "base_uri": "https://localhost:8080/"
        },
        "id": "wIwgKeutyvgZ",
        "outputId": "d71aa5bc-2707-4eff-aeef-44be002320b3"
      },
      "execution_count": null,
      "outputs": [
        {
          "output_type": "stream",
          "name": "stdout",
          "text": [
            "--2022-06-30 14:40:48--  https://raw.githubusercontent.com/kRuvpin/KCBV_Mamang/main/gempa.zip\n",
            "Resolving raw.githubusercontent.com (raw.githubusercontent.com)... 185.199.109.133, 185.199.108.133, 185.199.111.133, ...\n",
            "Connecting to raw.githubusercontent.com (raw.githubusercontent.com)|185.199.109.133|:443... connected.\n",
            "HTTP request sent, awaiting response... 200 OK\n",
            "Length: 168656 (165K) [application/zip]\n",
            "Saving to: ‘gempa.zip’\n",
            "\n",
            "\rgempa.zip             0%[                    ]       0  --.-KB/s               \rgempa.zip           100%[===================>] 164.70K  --.-KB/s    in 0.009s  \n",
            "\n",
            "2022-06-30 14:40:49 (17.9 MB/s) - ‘gempa.zip’ saved [168656/168656]\n",
            "\n",
            "Archive:  /content/gempa.zip\n",
            "   creating: gempa/\n",
            "   creating: gempa/test/\n",
            "   creating: gempa/test/gempa_lain/\n",
            "  inflating: gempa/test/gempa_lain/dll1.jpg  \n",
            "  inflating: gempa/test/gempa_lain/dll3.jpg  \n",
            "  inflating: gempa/test/gempa_lain/dll4.jpg  \n",
            "   creating: gempa/test/volcanic/\n",
            "  inflating: gempa/test/volcanic/gempa4.jpg  \n",
            "  inflating: gempa/test/volcanic/vol1.jpg  \n",
            "  inflating: gempa/test/volcanic/vol2.jpg  \n",
            "   creating: gempa/training/\n",
            "   creating: gempa/training/gempa_lain/\n",
            "  inflating: gempa/training/gempa_lain/gempa1.jpg  \n",
            "  inflating: gempa/training/gempa_lain/gempa2.jpg  \n",
            "  inflating: gempa/training/gempa_lain/gempa3.jpg  \n",
            "   creating: gempa/training/volcanic/\n",
            "  inflating: gempa/training/volcanic/gempa5.jpg  \n",
            "  inflating: gempa/training/volcanic/gempa6.jpg  \n",
            "  inflating: gempa/training/volcanic/vol3.jpg  \n"
          ]
        }
      ]
    },
    {
      "cell_type": "code",
      "source": [
        "!ls gempa"
      ],
      "metadata": {
        "colab": {
          "base_uri": "https://localhost:8080/"
        },
        "id": "GwoA6uwty8Ob",
        "outputId": "f7387c64-506d-4eee-cd8a-d5bc748e0ecd"
      },
      "execution_count": null,
      "outputs": [
        {
          "output_type": "stream",
          "name": "stdout",
          "text": [
            "test  training\n"
          ]
        }
      ]
    },
    {
      "cell_type": "code",
      "source": [
        "!ls gempa/training/"
      ],
      "metadata": {
        "colab": {
          "base_uri": "https://localhost:8080/"
        },
        "id": "WHiFUWK8zBwo",
        "outputId": "2e5d1e99-cf2f-4021-fd47-591782db43a1"
      },
      "execution_count": null,
      "outputs": [
        {
          "output_type": "stream",
          "name": "stdout",
          "text": [
            "gempa_lain  volcanic\n"
          ]
        }
      ]
    },
    {
      "cell_type": "code",
      "source": [
        "!ls gempa/training/volcanic"
      ],
      "metadata": {
        "colab": {
          "base_uri": "https://localhost:8080/"
        },
        "id": "y5BuFMmWzKac",
        "outputId": "f4676dff-0ebf-471c-ea53-df4eaa4b464f"
      },
      "execution_count": null,
      "outputs": [
        {
          "output_type": "stream",
          "name": "stdout",
          "text": [
            "gempa5.jpg  gempa6.jpg\tvol3.jpg\n"
          ]
        }
      ]
    },
    {
      "cell_type": "code",
      "source": [
        "import os\n",
        "\n",
        "# Walk through pizza_steak directory and list number of files\n",
        "for dirpath, dirnames, filenames in os.walk(\"gempa\"):\n",
        "  print(f\"There are {len(dirnames)} directories and {len(filenames)} images in '{dirpath}'.\")"
      ],
      "metadata": {
        "colab": {
          "base_uri": "https://localhost:8080/"
        },
        "id": "ZGeuosuWzNSa",
        "outputId": "acdead20-1595-4c86-dfa6-6fe0d47ae3d6"
      },
      "execution_count": null,
      "outputs": [
        {
          "output_type": "stream",
          "name": "stdout",
          "text": [
            "There are 2 directories and 0 images in 'gempa'.\n",
            "There are 2 directories and 0 images in 'gempa/test'.\n",
            "There are 0 directories and 3 images in 'gempa/test/volcanic'.\n",
            "There are 0 directories and 3 images in 'gempa/test/gempa_lain'.\n",
            "There are 2 directories and 0 images in 'gempa/training'.\n",
            "There are 0 directories and 3 images in 'gempa/training/volcanic'.\n",
            "There are 0 directories and 3 images in 'gempa/training/gempa_lain'.\n"
          ]
        }
      ]
    },
    {
      "cell_type": "code",
      "source": [
        "# Another way to find out how many images are in a file\n",
        "num_steak_images_train = len(os.listdir(\"gempa/training/volcanic\"))\n",
        "\n",
        "num_steak_images_train"
      ],
      "metadata": {
        "colab": {
          "base_uri": "https://localhost:8080/"
        },
        "id": "qrcvy7QgzPtZ",
        "outputId": "d6acb8fd-97a3-4800-fd29-f0d233e2166f"
      },
      "execution_count": null,
      "outputs": [
        {
          "output_type": "execute_result",
          "data": {
            "text/plain": [
              "3"
            ]
          },
          "metadata": {},
          "execution_count": 6
        }
      ]
    },
    {
      "cell_type": "code",
      "source": [
        "# Get the class names (programmatically, this is much more helpful with a longer list of classes)\n",
        "import pathlib\n",
        "import numpy as np\n",
        "data_dir = pathlib.Path(\"gempa/training/\") # turn our training path into a Python path\n",
        "class_names = np.array(sorted([item.name for item in data_dir.glob('*')])) # created a list of class_names from the subdirectories\n",
        "print(class_names)"
      ],
      "metadata": {
        "colab": {
          "base_uri": "https://localhost:8080/"
        },
        "id": "O_mi-hBUzR39",
        "outputId": "7f7e3a20-6467-4b18-fa3f-fa776eb61940"
      },
      "execution_count": null,
      "outputs": [
        {
          "output_type": "stream",
          "name": "stdout",
          "text": [
            "['gempa_lain' 'volcanic']\n"
          ]
        }
      ]
    },
    {
      "cell_type": "code",
      "source": [
        "# View an image\n",
        "import matplotlib.pyplot as plt\n",
        "import matplotlib.image as mpimg\n",
        "import random\n",
        "\n",
        "def view_random_image(target_dir, target_class):\n",
        "  # Setup target directory (we'll view images from here)\n",
        "  target_folder = target_dir+target_class\n",
        "\n",
        "  # Get a random image path\n",
        "  random_image = random.sample(os.listdir(target_folder), 1)\n",
        "\n",
        "  # Read in the image and plot it using matplotlib\n",
        "  img = mpimg.imread(target_folder + \"/\" + random_image[0])\n",
        "  plt.imshow(img)\n",
        "  plt.title(target_class)\n",
        "  plt.axis(\"off\");\n",
        "\n",
        "  print(f\"Image shape: {img.shape}\") # show the shape of the image\n",
        "\n",
        "  return img"
      ],
      "metadata": {
        "id": "nft-6AgDzUyT"
      },
      "execution_count": null,
      "outputs": []
    },
    {
      "cell_type": "code",
      "source": [
        "# View a random image from the training dataset\n",
        "img = view_random_image(target_dir=\"gempa/training/\",\n",
        "                        target_class=\"volcanic\")"
      ],
      "metadata": {
        "colab": {
          "base_uri": "https://localhost:8080/",
          "height": 107
        },
        "id": "urIbWtBhzW7l",
        "outputId": "8f8b241d-1bde-4a5b-f771-3f17ae35299f"
      },
      "execution_count": null,
      "outputs": [
        {
          "output_type": "stream",
          "name": "stdout",
          "text": [
            "Image shape: (74, 592, 3)\n"
          ]
        },
        {
          "output_type": "display_data",
          "data": {
            "text/plain": [
              "<Figure size 432x288 with 1 Axes>"
            ],
            "image/png": "[encoded data removed]"
          },
          "metadata": {
            "needs_background": "light"
          }
        }
      ]
    },
    {
      "cell_type": "code",
      "source": [
        "# View the img (actually just a big array/tensor)\n",
        "img"
      ],
      "metadata": {
        "colab": {
          "base_uri": "https://localhost:8080/"
        },
        "id": "tx-iUPmSzaA3",
        "outputId": "0b01244d-3b4f-4250-939e-333f525e278a"
      },
      "execution_count": null,
      "outputs": [
        {
          "output_type": "execute_result",
          "data": {
            "text/plain": [
              "array([[[255, 219, 244],\n",
              "        [255, 219, 244],\n",
              "        [255, 218, 243],\n",
              "        ...,\n",
              "        [255, 217, 242],\n",
              "        [255, 217, 242],\n",
              "        [255, 217, 242]],\n",
              "\n",
              "       [[253, 215, 240],\n",
              "        [254, 216, 241],\n",
              "        [255, 217, 242],\n",
              "        ...,\n",
              "        [255, 217, 242],\n",
              "        [255, 217, 242],\n",
              "        [255, 217, 242]],\n",
              "\n",
              "       [[253, 215, 240],\n",
              "        [254, 216, 241],\n",
              "        [255, 217, 242],\n",
              "        ...,\n",
              "        [255, 217, 242],\n",
              "        [255, 217, 242],\n",
              "        [255, 217, 242]],\n",
              "\n",
              "       ...,\n",
              "\n",
              "       [[255, 218, 243],\n",
              "        [255, 218, 243],\n",
              "        [255, 217, 242],\n",
              "        ...,\n",
              "        [255, 217, 242],\n",
              "        [255, 217, 242],\n",
              "        [255, 217, 242]],\n",
              "\n",
              "       [[244, 206, 231],\n",
              "        [249, 211, 236],\n",
              "        [255, 217, 242],\n",
              "        ...,\n",
              "        [255, 217, 242],\n",
              "        [255, 217, 242],\n",
              "        [255, 217, 242]],\n",
              "\n",
              "       [[255, 219, 244],\n",
              "        [255, 219, 244],\n",
              "        [255, 218, 243],\n",
              "        ...,\n",
              "        [255, 217, 242],\n",
              "        [255, 217, 242],\n",
              "        [255, 217, 242]]], dtype=uint8)"
            ]
          },
          "metadata": {},
          "execution_count": 10
        }
      ]
    },
    {
      "cell_type": "code",
      "source": [
        "# View the image shape\n",
        "img.shape # returns (width, height, colour channels)"
      ],
      "metadata": {
        "colab": {
          "base_uri": "https://localhost:8080/"
        },
        "id": "kIwQDOkRzcit",
        "outputId": "870de5d1-e194-4123-bf58-4fdaf2ca6fd4"
      },
      "execution_count": null,
      "outputs": [
        {
          "output_type": "execute_result",
          "data": {
            "text/plain": [
              "(74, 592, 3)"
            ]
          },
          "metadata": {},
          "execution_count": 11
        }
      ]
    },
    {
      "cell_type": "code",
      "source": [
        "# Get all the pixel values between 0 & 1\n",
        "img/255."
      ],
      "metadata": {
        "colab": {
          "base_uri": "https://localhost:8080/"
        },
        "id": "kokVsUydzec7",
        "outputId": "29424bd3-ec30-43dd-eee6-eb91685e3298"
      },
      "execution_count": null,
      "outputs": [
        {
          "output_type": "execute_result",
          "data": {
            "text/plain": [
              "array([[[1.        , 0.85882353, 0.95686275],\n",
              "        [1.        , 0.85882353, 0.95686275],\n",
              "        [1.        , 0.85490196, 0.95294118],\n",
              "        ...,\n",
              "        [1.        , 0.85098039, 0.94901961],\n",
              "        [1.        , 0.85098039, 0.94901961],\n",
              "        [1.        , 0.85098039, 0.94901961]],\n",
              "\n",
              "       [[0.99215686, 0.84313725, 0.94117647],\n",
              "        [0.99607843, 0.84705882, 0.94509804],\n",
              "        [1.        , 0.85098039, 0.94901961],\n",
              "        ...,\n",
              "        [1.        , 0.85098039, 0.94901961],\n",
              "        [1.        , 0.85098039, 0.94901961],\n",
              "        [1.        , 0.85098039, 0.94901961]],\n",
              "\n",
              "       [[0.99215686, 0.84313725, 0.94117647],\n",
              "        [0.99607843, 0.84705882, 0.94509804],\n",
              "        [1.        , 0.85098039, 0.94901961],\n",
              "        ...,\n",
              "        [1.        , 0.85098039, 0.94901961],\n",
              "        [1.        , 0.85098039, 0.94901961],\n",
              "        [1.        , 0.85098039, 0.94901961]],\n",
              "\n",
              "       ...,\n",
              "\n",
              "       [[1.        , 0.85490196, 0.95294118],\n",
              "        [1.        , 0.85490196, 0.95294118],\n",
              "        [1.        , 0.85098039, 0.94901961],\n",
              "        ...,\n",
              "        [1.        , 0.85098039, 0.94901961],\n",
              "        [1.        , 0.85098039, 0.94901961],\n",
              "        [1.        , 0.85098039, 0.94901961]],\n",
              "\n",
              "       [[0.95686275, 0.80784314, 0.90588235],\n",
              "        [0.97647059, 0.82745098, 0.9254902 ],\n",
              "        [1.        , 0.85098039, 0.94901961],\n",
              "        ...,\n",
              "        [1.        , 0.85098039, 0.94901961],\n",
              "        [1.        , 0.85098039, 0.94901961],\n",
              "        [1.        , 0.85098039, 0.94901961]],\n",
              "\n",
              "       [[1.        , 0.85882353, 0.95686275],\n",
              "        [1.        , 0.85882353, 0.95686275],\n",
              "        [1.        , 0.85490196, 0.95294118],\n",
              "        ...,\n",
              "        [1.        , 0.85098039, 0.94901961],\n",
              "        [1.        , 0.85098039, 0.94901961],\n",
              "        [1.        , 0.85098039, 0.94901961]]])"
            ]
          },
          "metadata": {},
          "execution_count": 12
        }
      ]
    },
    {
      "cell_type": "code",
      "source": [
        "import tensorflow as tf\n",
        "from tensorflow.keras.preprocessing.image import ImageDataGenerator\n",
        "\n",
        "# Set the seed\n",
        "tf.random.set_seed(42)\n",
        "\n",
        "# Preprocess data (get all of the pixel values between 1 and 0, also called scaling/normalization)\n",
        "train_datagen = ImageDataGenerator(rescale=1./255)\n",
        "valid_datagen = ImageDataGenerator(rescale=1./255)\n",
        "\n",
        "# Setup the train and test directories\n",
        "train_dir = \"gempa/training/\"\n",
        "test_dir = \"gempa/test/\"\n",
        "\n",
        "# Import data from directories and turn it into batches\n",
        "train_data = train_datagen.flow_from_directory(train_dir,\n",
        "                                               batch_size=32, # number of images to process at a time \n",
        "                                               target_size=(224, 224), # convert all images to be 224 x 224\n",
        "                                               class_mode=\"binary\", # type of problem we're working on\n",
        "                                               seed=42)\n",
        "\n",
        "valid_data = valid_datagen.flow_from_directory(test_dir,\n",
        "                                               batch_size=32,\n",
        "                                               target_size=(224, 224),\n",
        "                                               class_mode=\"binary\",\n",
        "                                               seed=42)\n",
        "\n",
        "# Create a CNN model (same as Tiny VGG - https://poloclub.github.io/cnn-explainer/)\n",
        "model_1 = tf.keras.models.Sequential([\n",
        "  tf.keras.layers.Conv2D(filters=10, \n",
        "                         kernel_size=3, # can also be (3, 3)\n",
        "                         activation=\"relu\", \n",
        "                         input_shape=(224, 224, 3)), # first layer specifies input shape (height, width, colour channels)\n",
        "  tf.keras.layers.Conv2D(10, 3, activation=\"relu\"),\n",
        "  tf.keras.layers.MaxPool2D(pool_size=2, # pool_size can also be (2, 2)\n",
        "                            padding=\"valid\"), # padding can also be 'same'\n",
        "  tf.keras.layers.Conv2D(10, 3, activation=\"relu\"),\n",
        "  tf.keras.layers.Conv2D(10, 3, activation=\"relu\"), # activation='relu' == tf.keras.layers.Activations(tf.nn.relu)\n",
        "  tf.keras.layers.MaxPool2D(2),\n",
        "  tf.keras.layers.Flatten(),\n",
        "  tf.keras.layers.Dense(1, activation=\"sigmoid\") # binary activation output\n",
        "])\n",
        "\n",
        "# Compile the model\n",
        "model_1.compile(loss=\"binary_crossentropy\",\n",
        "              optimizer=tf.keras.optimizers.Adam(),\n",
        "              metrics=[\"accuracy\"])\n",
        "\n",
        "# Fit the model\n",
        "history_1 = model_1.fit(train_data,\n",
        "                        epochs=5,\n",
        "                        steps_per_epoch=len(train_data),\n",
        "                        validation_data=valid_data,\n",
        "                        validation_steps=len(valid_data))"
      ],
      "metadata": {
        "colab": {
          "base_uri": "https://localhost:8080/"
        },
        "id": "nV6Vi0lUzoyF",
        "outputId": "dcad600a-fca6-46cd-ee80-1102bb2e4bb6"
      },
      "execution_count": null,
      "outputs": [
        {
          "output_type": "stream",
          "name": "stdout",
          "text": [
            "Found 6 images belonging to 2 classes.\n",
            "Found 6 images belonging to 2 classes.\n",
            "Epoch 1/5\n",
            "1/1 [==============================] - 2s 2s/step - loss: 0.6886 - accuracy: 0.6667 - val_loss: 0.7710 - val_accuracy: 0.5000\n",
            "Epoch 2/5\n",
            "1/1 [==============================] - 1s 814ms/step - loss: 0.7106 - accuracy: 0.5000 - val_loss: 0.6718 - val_accuracy: 0.6667\n",
            "Epoch 3/5\n",
            "1/1 [==============================] - 1s 998ms/step - loss: 0.6056 - accuracy: 1.0000 - val_loss: 0.6823 - val_accuracy: 0.5000\n",
            "Epoch 4/5\n",
            "1/1 [==============================] - 1s 1s/step - loss: 0.6060 - accuracy: 0.6667 - val_loss: 0.6695 - val_accuracy: 0.5000\n",
            "Epoch 5/5\n",
            "1/1 [==============================] - 1s 1s/step - loss: 0.5596 - accuracy: 0.8333 - val_loss: 0.6410 - val_accuracy: 0.6667\n"
          ]
        }
      ]
    },
    {
      "cell_type": "code",
      "source": [
        "# Check out the layers in our model\n",
        "model_1.summary()"
      ],
      "metadata": {
        "colab": {
          "base_uri": "https://localhost:8080/"
        },
        "id": "1uEl1rZ601mh",
        "outputId": "875b0e42-8611-47da-ca2f-e451a483c80a"
      },
      "execution_count": null,
      "outputs": [
        {
          "output_type": "stream",
          "name": "stdout",
          "text": [
            "Model: \"sequential\"\n",
            "_________________________________________________________________\n",
            " Layer (type)                Output Shape              Param #   \n",
            "=================================================================\n",
            " conv2d (Conv2D)             (None, 222, 222, 10)      280       \n",
            "                                                                 \n",
            " conv2d_1 (Conv2D)           (None, 220, 220, 10)      910       \n",
            "                                                                 \n",
            " max_pooling2d (MaxPooling2D  (None, 110, 110, 10)     0         \n",
            " )                                                               \n",
            "                                                                 \n",
            " conv2d_2 (Conv2D)           (None, 108, 108, 10)      910       \n",
            "                                                                 \n",
            " conv2d_3 (Conv2D)           (None, 106, 106, 10)      910       \n",
            "                                                                 \n",
            " max_pooling2d_1 (MaxPooling  (None, 53, 53, 10)       0         \n",
            " 2D)                                                             \n",
            "                                                                 \n",
            " flatten (Flatten)           (None, 28090)             0         \n",
            "                                                                 \n",
            " dense (Dense)               (None, 1)                 28091     \n",
            "                                                                 \n",
            "=================================================================\n",
            "Total params: 31,101\n",
            "Trainable params: 31,101\n",
            "Non-trainable params: 0\n",
            "_________________________________________________________________\n"
          ]
        }
      ]
    },
    {
      "cell_type": "code",
      "source": [
        "# Set random seed\n",
        "tf.random.set_seed(42)\n",
        "\n",
        "# Create a model to replicate the TensorFlow Playground model\n",
        "model_2 = tf.keras.Sequential([\n",
        "  tf.keras.layers.Flatten(input_shape=(224, 224, 3)), # dense layers expect a 1-dimensional vector as input\n",
        "  tf.keras.layers.Dense(4, activation='relu'),\n",
        "  tf.keras.layers.Dense(4, activation='relu'),\n",
        "  tf.keras.layers.Dense(1, activation='sigmoid')\n",
        "])\n",
        "\n",
        "# Compile the model\n",
        "model_2.compile(loss='binary_crossentropy',\n",
        "              optimizer=tf.keras.optimizers.Adam(),\n",
        "              metrics=[\"accuracy\"])\n",
        "\n",
        "# Fit the model\n",
        "history_2 = model_2.fit(train_data, # use same training data created above\n",
        "                        epochs=5,\n",
        "                        steps_per_epoch=len(train_data),\n",
        "                        validation_data=valid_data, # use same validation data created above\n",
        "                        validation_steps=len(valid_data))"
      ],
      "metadata": {
        "colab": {
          "base_uri": "https://localhost:8080/"
        },
        "id": "iQs1_k0y02El",
        "outputId": "00366714-e1b1-456f-bbe1-520e65d870f5"
      },
      "execution_count": null,
      "outputs": [
        {
          "output_type": "stream",
          "name": "stdout",
          "text": [
            "Epoch 1/5\n",
            "1/1 [==============================] - 1s 1s/step - loss: 0.6869 - accuracy: 0.5000 - val_loss: 0.6931 - val_accuracy: 0.5000\n",
            "Epoch 2/5\n",
            "1/1 [==============================] - 0s 184ms/step - loss: 0.6931 - accuracy: 0.5000 - val_loss: 0.6931 - val_accuracy: 0.5000\n",
            "Epoch 3/5\n",
            "1/1 [==============================] - 0s 275ms/step - loss: 0.6931 - accuracy: 0.5000 - val_loss: 0.6931 - val_accuracy: 0.5000\n",
            "Epoch 4/5\n",
            "1/1 [==============================] - 0s 322ms/step - loss: 0.6931 - accuracy: 0.5000 - val_loss: 0.6931 - val_accuracy: 0.5000\n",
            "Epoch 5/5\n",
            "1/1 [==============================] - 0s 187ms/step - loss: 0.6931 - accuracy: 0.5000 - val_loss: 0.6931 - val_accuracy: 0.5000\n"
          ]
        }
      ]
    },
    {
      "cell_type": "code",
      "source": [
        "# Check out our second model's architecture\n",
        "model_2.summary()"
      ],
      "metadata": {
        "colab": {
          "base_uri": "https://localhost:8080/"
        },
        "id": "AVePMZiE5FQS",
        "outputId": "65ca87c6-2635-44c3-a9b5-3d0ad25ab76d"
      },
      "execution_count": null,
      "outputs": [
        {
          "output_type": "stream",
          "name": "stdout",
          "text": [
            "Model: \"sequential_1\"\n",
            "_________________________________________________________________\n",
            " Layer (type)                Output Shape              Param #   \n",
            "=================================================================\n",
            " flatten_1 (Flatten)         (None, 150528)            0         \n",
            "                                                                 \n",
            " dense_1 (Dense)             (None, 4)                 602116    \n",
            "                                                                 \n",
            " dense_2 (Dense)             (None, 4)                 20        \n",
            "                                                                 \n",
            " dense_3 (Dense)             (None, 1)                 5         \n",
            "                                                                 \n",
            "=================================================================\n",
            "Total params: 602,141\n",
            "Trainable params: 602,141\n",
            "Non-trainable params: 0\n",
            "_________________________________________________________________\n"
          ]
        }
      ]
    },
    {
      "cell_type": "code",
      "source": [
        "# Set random seed\n",
        "tf.random.set_seed(42)\n",
        "\n",
        "# Create a model similar to model_1 but add an extra layer and increase the number of hidden units in each layer\n",
        "model_3 = tf.keras.Sequential([\n",
        "  tf.keras.layers.Flatten(input_shape=(224, 224, 3)), # dense layers expect a 1-dimensional vector as input\n",
        "  tf.keras.layers.Dense(100, activation='relu'), # increase number of neurons from 4 to 100 (for each layer)\n",
        "  tf.keras.layers.Dense(100, activation='relu'),\n",
        "  tf.keras.layers.Dense(100, activation='relu'), # add an extra layer\n",
        "  tf.keras.layers.Dense(1, activation='sigmoid')\n",
        "])\n",
        "\n",
        "# Compile the model\n",
        "model_3.compile(loss='binary_crossentropy',\n",
        "              optimizer=tf.keras.optimizers.Adam(),\n",
        "              metrics=[\"accuracy\"])\n",
        "\n",
        "# Fit the model\n",
        "history_3 = model_3.fit(train_data,\n",
        "                        epochs=5,\n",
        "                        steps_per_epoch=len(train_data),\n",
        "                        validation_data=valid_data,\n",
        "                        validation_steps=len(valid_data))"
      ],
      "metadata": {
        "colab": {
          "base_uri": "https://localhost:8080/"
        },
        "id": "g9w3dON95JuD",
        "outputId": "c284b962-00d7-49f8-969b-ae7be35bfe2f"
      },
      "execution_count": null,
      "outputs": [
        {
          "output_type": "stream",
          "name": "stdout",
          "text": [
            "Epoch 1/5\n",
            "1/1 [==============================] - 2s 2s/step - loss: 0.7657 - accuracy: 0.5000 - val_loss: 12.2577 - val_accuracy: 0.5000\n",
            "Epoch 2/5\n",
            "1/1 [==============================] - 0s 370ms/step - loss: 14.0097 - accuracy: 0.5000 - val_loss: 12.6751 - val_accuracy: 0.5000\n",
            "Epoch 3/5\n",
            "1/1 [==============================] - 0s 240ms/step - loss: 14.1262 - accuracy: 0.5000 - val_loss: 15.1039 - val_accuracy: 0.5000\n",
            "Epoch 4/5\n",
            "1/1 [==============================] - 0s 300ms/step - loss: 16.9436 - accuracy: 0.5000 - val_loss: 3.1558 - val_accuracy: 0.5000\n",
            "Epoch 5/5\n",
            "1/1 [==============================] - 0s 303ms/step - loss: 2.6645 - accuracy: 0.5000 - val_loss: 22.7842 - val_accuracy: 0.5000\n"
          ]
        }
      ]
    },
    {
      "cell_type": "code",
      "source": [
        "# Check out model_3 architecture\n",
        "model_3.summary()"
      ],
      "metadata": {
        "colab": {
          "base_uri": "https://localhost:8080/"
        },
        "id": "RZBpvZLu5Jro",
        "outputId": "9969a4f0-532a-48bf-f19f-614d0fce21ef"
      },
      "execution_count": null,
      "outputs": [
        {
          "output_type": "stream",
          "name": "stdout",
          "text": [
            "Model: \"sequential_2\"\n",
            "_________________________________________________________________\n",
            " Layer (type)                Output Shape              Param #   \n",
            "=================================================================\n",
            " flatten_2 (Flatten)         (None, 150528)            0         \n",
            "                                                                 \n",
            " dense_4 (Dense)             (None, 100)               15052900  \n",
            "                                                                 \n",
            " dense_5 (Dense)             (None, 100)               10100     \n",
            "                                                                 \n",
            " dense_6 (Dense)             (None, 100)               10100     \n",
            "                                                                 \n",
            " dense_7 (Dense)             (None, 1)                 101       \n",
            "                                                                 \n",
            "=================================================================\n",
            "Total params: 15,073,201\n",
            "Trainable params: 15,073,201\n",
            "Non-trainable params: 0\n",
            "_________________________________________________________________\n"
          ]
        }
      ]
    },
    {
      "cell_type": "markdown",
      "source": [
        "### 1. Import and become one with the data\n"
      ],
      "metadata": {
        "id": "vE5CR1jtXFv6"
      }
    },
    {
      "cell_type": "code",
      "source": [
        "# Visualize data (requires function 'view_random_image' above)\n",
        "plt.figure()\n",
        "plt.subplot(1, 2, 1)\n",
        "steak_img = view_random_image(\"gempa/training/\", \"volcanic\")\n",
        "plt.subplot(1, 2, 2)\n",
        "pizza_img = view_random_image(\"gempa/training/\", \"gempa_lain\")"
      ],
      "metadata": {
        "colab": {
          "base_uri": "https://localhost:8080/",
          "height": 126
        },
        "id": "UEAr5tpmXAZ6",
        "outputId": "ebcec0bc-3bed-4d4c-aa21-9731eaaa30c9"
      },
      "execution_count": null,
      "outputs": [
        {
          "output_type": "stream",
          "name": "stdout",
          "text": [
            "Image shape: (74, 592, 3)\n",
            "Image shape: (277, 1012, 3)\n"
          ]
        },
        {
          "output_type": "display_data",
          "data": {
            "text/plain": [
              "<Figure size 432x288 with 2 Axes>"
            ],
            "image/png": "[encoded data removed]"
          },
          "metadata": {
            "needs_background": "light"
          }
        }
      ]
    },
    {
      "cell_type": "markdown",
      "source": [
        "### 2. Preprocess the data (prepare it for a model)"
      ],
      "metadata": {
        "id": "Uxwp-a54XGzO"
      }
    },
    {
      "cell_type": "code",
      "source": [
        "# Define training and test directory paths\n",
        "train_dir = \"gempa/training/\"\n",
        "test_dir = \"gempa/test/\""
      ],
      "metadata": {
        "id": "hJcR9uhFXI-l"
      },
      "execution_count": null,
      "outputs": []
    },
    {
      "cell_type": "code",
      "source": [
        "# Create train and test data generators and rescale the data \n",
        "from tensorflow.keras.preprocessing.image import ImageDataGenerator\n",
        "train_datagen = ImageDataGenerator(rescale=1/255.)\n",
        "test_datagen = ImageDataGenerator(rescale=1/255.)"
      ],
      "metadata": {
        "id": "XfphlTP5XdDS"
      },
      "execution_count": null,
      "outputs": []
    },
    {
      "cell_type": "code",
      "source": [
        "# Turn it into batches\n",
        "train_data = train_datagen.flow_from_directory(directory=train_dir,\n",
        "                                               target_size=(224, 224),\n",
        "                                               class_mode='binary',\n",
        "                                               batch_size=32)\n",
        "\n",
        "test_data = test_datagen.flow_from_directory(directory=test_dir,\n",
        "                                             target_size=(224, 224),\n",
        "                                             class_mode='binary',\n",
        "                                             batch_size=32)"
      ],
      "metadata": {
        "colab": {
          "base_uri": "https://localhost:8080/"
        },
        "id": "mUAqo3vcXgAK",
        "outputId": "2963fb7c-01ed-4d58-ad33-eb923067c7f7"
      },
      "execution_count": null,
      "outputs": [
        {
          "output_type": "stream",
          "name": "stdout",
          "text": [
            "Found 6 images belonging to 2 classes.\n",
            "Found 6 images belonging to 2 classes.\n"
          ]
        }
      ]
    },
    {
      "cell_type": "code",
      "source": [
        "# Get a sample of the training data batch \n",
        "images, labels = train_data.next() # get the 'next' batch of images/labels\n",
        "len(images), len(labels)"
      ],
      "metadata": {
        "colab": {
          "base_uri": "https://localhost:8080/"
        },
        "id": "inJZGekdXix2",
        "outputId": "946bd077-020d-4c9b-bbfd-05c2509e88be"
      },
      "execution_count": null,
      "outputs": [
        {
          "output_type": "execute_result",
          "data": {
            "text/plain": [
              "(6, 6)"
            ]
          },
          "metadata": {},
          "execution_count": 23
        }
      ]
    },
    {
      "cell_type": "code",
      "source": [
        "# Get the first two images\n",
        "images[:2], images[0].shape"
      ],
      "metadata": {
        "colab": {
          "base_uri": "https://localhost:8080/"
        },
        "id": "bas9VbGZXkkX",
        "outputId": "ac71b465-6a5e-4529-9cd9-5b0da46b23e4"
      },
      "execution_count": null,
      "outputs": [
        {
          "output_type": "execute_result",
          "data": {
            "text/plain": [
              "(array([[[[1., 1., 1.],\n",
              "          [1., 1., 1.],\n",
              "          [1., 1., 1.],\n",
              "          ...,\n",
              "          [1., 1., 1.],\n",
              "          [1., 1., 1.],\n",
              "          [1., 1., 1.]],\n",
              " \n",
              "         [[1., 1., 1.],\n",
              "          [1., 1., 1.],\n",
              "          [1., 1., 1.],\n",
              "          ...,\n",
              "          [1., 1., 1.],\n",
              "          [1., 1., 1.],\n",
              "          [1., 1., 1.]],\n",
              " \n",
              "         [[1., 1., 1.],\n",
              "          [1., 1., 1.],\n",
              "          [1., 1., 1.],\n",
              "          ...,\n",
              "          [1., 1., 1.],\n",
              "          [1., 1., 1.],\n",
              "          [1., 1., 1.]],\n",
              " \n",
              "         ...,\n",
              " \n",
              "         [[1., 1., 1.],\n",
              "          [1., 1., 1.],\n",
              "          [1., 1., 1.],\n",
              "          ...,\n",
              "          [1., 1., 1.],\n",
              "          [1., 1., 1.],\n",
              "          [1., 1., 1.]],\n",
              " \n",
              "         [[1., 1., 1.],\n",
              "          [1., 1., 1.],\n",
              "          [1., 1., 1.],\n",
              "          ...,\n",
              "          [1., 1., 1.],\n",
              "          [1., 1., 1.],\n",
              "          [1., 1., 1.]],\n",
              " \n",
              "         [[1., 1., 1.],\n",
              "          [1., 1., 1.],\n",
              "          [1., 1., 1.],\n",
              "          ...,\n",
              "          [1., 1., 1.],\n",
              "          [1., 1., 1.],\n",
              "          [1., 1., 1.]]],\n",
              " \n",
              " \n",
              "        [[[1., 1., 1.],\n",
              "          [1., 1., 1.],\n",
              "          [1., 1., 1.],\n",
              "          ...,\n",
              "          [1., 1., 1.],\n",
              "          [1., 1., 1.],\n",
              "          [1., 1., 1.]],\n",
              " \n",
              "         [[1., 1., 1.],\n",
              "          [1., 1., 1.],\n",
              "          [1., 1., 1.],\n",
              "          ...,\n",
              "          [1., 1., 1.],\n",
              "          [1., 1., 1.],\n",
              "          [1., 1., 1.]],\n",
              " \n",
              "         [[1., 1., 1.],\n",
              "          [1., 1., 1.],\n",
              "          [1., 1., 1.],\n",
              "          ...,\n",
              "          [1., 1., 1.],\n",
              "          [1., 1., 1.],\n",
              "          [1., 1., 1.]],\n",
              " \n",
              "         ...,\n",
              " \n",
              "         [[1., 1., 1.],\n",
              "          [1., 1., 1.],\n",
              "          [1., 1., 1.],\n",
              "          ...,\n",
              "          [1., 1., 1.],\n",
              "          [1., 1., 1.],\n",
              "          [1., 1., 1.]],\n",
              " \n",
              "         [[1., 1., 1.],\n",
              "          [1., 1., 1.],\n",
              "          [1., 1., 1.],\n",
              "          ...,\n",
              "          [1., 1., 1.],\n",
              "          [1., 1., 1.],\n",
              "          [1., 1., 1.]],\n",
              " \n",
              "         [[1., 1., 1.],\n",
              "          [1., 1., 1.],\n",
              "          [1., 1., 1.],\n",
              "          ...,\n",
              "          [1., 1., 1.],\n",
              "          [1., 1., 1.],\n",
              "          [1., 1., 1.]]]], dtype=float32), (224, 224, 3))"
            ]
          },
          "metadata": {},
          "execution_count": 24
        }
      ]
    },
    {
      "cell_type": "code",
      "source": [
        "# View the first batch of labels\n",
        "labels"
      ],
      "metadata": {
        "colab": {
          "base_uri": "https://localhost:8080/"
        },
        "id": "ErpUP1ssXn-o",
        "outputId": "a49b5859-28c7-4909-f175-e711227c81e1"
      },
      "execution_count": null,
      "outputs": [
        {
          "output_type": "execute_result",
          "data": {
            "text/plain": [
              "array([0., 1., 1., 1., 0., 0.], dtype=float32)"
            ]
          },
          "metadata": {},
          "execution_count": 25
        }
      ]
    },
    {
      "cell_type": "markdown",
      "source": [
        "### 3. Create a model (start with a baseline)"
      ],
      "metadata": {
        "id": "ORXtEuEHXq0c"
      }
    },
    {
      "cell_type": "code",
      "source": [
        "# Make the creating of our model a little easier\n",
        "from tensorflow.keras.optimizers import Adam\n",
        "from tensorflow.keras.layers import Dense, Flatten, Conv2D, MaxPool2D, Activation\n",
        "from tensorflow.keras import Sequential"
      ],
      "metadata": {
        "id": "BBR2tBx_Xriy"
      },
      "execution_count": null,
      "outputs": []
    },
    {
      "cell_type": "code",
      "source": [
        "# Create the model (this can be our baseline, a 3 layer Convolutional Neural Network)\n",
        "model_4 = Sequential([\n",
        "  Conv2D(filters=10, \n",
        "         kernel_size=3, \n",
        "         strides=1,\n",
        "         padding='valid',\n",
        "         activation='relu', \n",
        "         input_shape=(224, 224, 3)), # input layer (specify input shape)\n",
        "  Conv2D(10, 3, activation='relu'),\n",
        "  Conv2D(10, 3, activation='relu'),\n",
        "  Flatten(),\n",
        "  Dense(1, activation='sigmoid') # output layer (specify output shape)\n",
        "])"
      ],
      "metadata": {
        "id": "JWc5NwV5XvRi"
      },
      "execution_count": null,
      "outputs": []
    },
    {
      "cell_type": "code",
      "source": [
        "# Compile the model\n",
        "model_4.compile(loss='binary_crossentropy',\n",
        "                optimizer=Adam(),\n",
        "                metrics=['accuracy'])"
      ],
      "metadata": {
        "id": "8fXm-xvcXyVa"
      },
      "execution_count": null,
      "outputs": []
    },
    {
      "cell_type": "markdown",
      "source": [
        "### 4. Fit a model\n"
      ],
      "metadata": {
        "id": "YcLLzB35X5kV"
      }
    },
    {
      "cell_type": "code",
      "source": [
        "# Check lengths of training and test data generators\n",
        "len(train_data), len(test_data)"
      ],
      "metadata": {
        "colab": {
          "base_uri": "https://localhost:8080/"
        },
        "id": "10n9yq7xX47M",
        "outputId": "66fbe984-9f74-4cb6-e6de-c68001f10a9c"
      },
      "execution_count": null,
      "outputs": [
        {
          "output_type": "execute_result",
          "data": {
            "text/plain": [
              "(1, 1)"
            ]
          },
          "metadata": {},
          "execution_count": 29
        }
      ]
    },
    {
      "cell_type": "code",
      "source": [
        "# Fit the model\n",
        "history_4 = model_4.fit(train_data,\n",
        "                        epochs=5,\n",
        "                        steps_per_epoch=len(train_data),\n",
        "                        validation_data=test_data,\n",
        "                        validation_steps=len(test_data))"
      ],
      "metadata": {
        "colab": {
          "base_uri": "https://localhost:8080/"
        },
        "id": "XcHiVoUYX9ZO",
        "outputId": "1f26b050-5010-4302-ffb6-f0383974d68a"
      },
      "execution_count": null,
      "outputs": [
        {
          "output_type": "stream",
          "name": "stdout",
          "text": [
            "Epoch 1/5\n",
            "1/1 [==============================] - 2s 2s/step - loss: 0.7331 - accuracy: 0.5000 - val_loss: 27.4282 - val_accuracy: 0.5000\n",
            "Epoch 2/5\n",
            "1/1 [==============================] - 2s 2s/step - loss: 31.0739 - accuracy: 0.5000 - val_loss: 10.6400 - val_accuracy: 0.5000\n",
            "Epoch 3/5\n",
            "1/1 [==============================] - 1s 1s/step - loss: 11.4506 - accuracy: 0.5000 - val_loss: 7.3204 - val_accuracy: 0.5000\n",
            "Epoch 4/5\n",
            "1/1 [==============================] - 1s 1s/step - loss: 7.6305 - accuracy: 0.5000 - val_loss: 11.1539 - val_accuracy: 0.5000\n",
            "Epoch 5/5\n",
            "1/1 [==============================] - 1s 1s/step - loss: 11.7228 - accuracy: 0.5000 - val_loss: 8.7741 - val_accuracy: 0.5000\n"
          ]
        }
      ]
    },
    {
      "cell_type": "markdown",
      "source": [
        "5. Evaluate the model"
      ],
      "metadata": {
        "id": "5buEneQjYQye"
      }
    },
    {
      "cell_type": "code",
      "source": [
        "# Plot the training curves\n",
        "import pandas as pd\n",
        "pd.DataFrame(history_4.history).plot(figsize=(10, 7));"
      ],
      "metadata": {
        "colab": {
          "base_uri": "https://localhost:8080/",
          "height": 428
        },
        "id": "V59QCKHaYRru",
        "outputId": "cf76eeb6-5544-4a0f-a837-2397550659e6"
      },
      "execution_count": null,
      "outputs": [
        {
          "output_type": "display_data",
          "data": {
            "text/plain": [
              "<Figure size 720x504 with 1 Axes>"
            ],
            "image/png": "[encoded data removed]"
          },
          "metadata": {
            "needs_background": "light"
          }
        }
      ]
    },
    {
      "cell_type": "code",
      "source": [
        "# Plot the validation and training data separately\n",
        "def plot_loss_curves(history):\n",
        "  \"\"\"\n",
        "  Returns separate loss curves for training and validation metrics.\n",
        "  \"\"\" \n",
        "  loss = history.history['loss']\n",
        "  val_loss = history.history['val_loss']\n",
        "\n",
        "  accuracy = history.history['accuracy']\n",
        "  val_accuracy = history.history['val_accuracy']\n",
        "\n",
        "  epochs = range(len(history.history['loss']))\n",
        "\n",
        "  # Plot loss\n",
        "  plt.plot(epochs, loss, label='training_loss')\n",
        "  plt.plot(epochs, val_loss, label='val_loss')\n",
        "  plt.title('Loss')\n",
        "  plt.xlabel('Epochs')\n",
        "  plt.legend()\n",
        "\n",
        "  # Plot accuracy\n",
        "  plt.figure()\n",
        "  plt.plot(epochs, accuracy, label='training_accuracy')\n",
        "  plt.plot(epochs, val_accuracy, label='val_accuracy')\n",
        "  plt.title('Accuracy')\n",
        "  plt.xlabel('Epochs')\n",
        "  plt.legend();"
      ],
      "metadata": {
        "id": "P0TSN3v1YVn1"
      },
      "execution_count": null,
      "outputs": []
    },
    {
      "cell_type": "code",
      "source": [
        "# Check out the loss curves of model_4\n",
        "plot_loss_curves(history_4)"
      ],
      "metadata": {
        "colab": {
          "base_uri": "https://localhost:8080/",
          "height": 573
        },
        "id": "6TcJNKybYWUV",
        "outputId": "e26384a8-599b-4006-de63-e9a3858fe445"
      },
      "execution_count": null,
      "outputs": [
        {
          "output_type": "display_data",
          "data": {
            "text/plain": [
              "<Figure size 432x288 with 1 Axes>"
            ],
            "image/png": "[encoded data removed]"
          },
          "metadata": {
            "needs_background": "light"
          }
        },
        {
          "output_type": "display_data",
          "data": {
            "text/plain": [
              "<Figure size 432x288 with 1 Axes>"
            ],
            "image/png": "[encoded data removed]"
          },
          "metadata": {
            "needs_background": "light"
          }
        }
      ]
    },
    {
      "cell_type": "code",
      "source": [
        "# Check out our model's architecture\n",
        "model_4.summary()"
      ],
      "metadata": {
        "colab": {
          "base_uri": "https://localhost:8080/"
        },
        "id": "vjInYk_BYbbr",
        "outputId": "3d7d1cdd-7f32-4620-89e3-8383e119968a"
      },
      "execution_count": null,
      "outputs": [
        {
          "output_type": "stream",
          "name": "stdout",
          "text": [
            "Model: \"sequential_3\"\n",
            "_________________________________________________________________\n",
            " Layer (type)                Output Shape              Param #   \n",
            "=================================================================\n",
            " conv2d_4 (Conv2D)           (None, 222, 222, 10)      280       \n",
            "                                                                 \n",
            " conv2d_5 (Conv2D)           (None, 220, 220, 10)      910       \n",
            "                                                                 \n",
            " conv2d_6 (Conv2D)           (None, 218, 218, 10)      910       \n",
            "                                                                 \n",
            " flatten_3 (Flatten)         (None, 475240)            0         \n",
            "                                                                 \n",
            " dense_8 (Dense)             (None, 1)                 475241    \n",
            "                                                                 \n",
            "=================================================================\n",
            "Total params: 477,341\n",
            "Trainable params: 477,341\n",
            "Non-trainable params: 0\n",
            "_________________________________________________________________\n"
          ]
        }
      ]
    },
    {
      "cell_type": "markdown",
      "source": [
        "### 6. Adjust the model parameters\n"
      ],
      "metadata": {
        "id": "Tnh2hHRKYqMq"
      }
    },
    {
      "cell_type": "markdown",
      "source": [
        "```\n",
        "Input -> Conv layers + ReLU layers (non-linearities) + Max Pooling layers -> Fully connected (dense layer) as Output\n",
        "```"
      ],
      "metadata": {
        "id": "Oy8MinBMY4aJ"
      }
    },
    {
      "cell_type": "code",
      "source": [
        "# Create the model (this can be our baseline, a 3 layer Convolutional Neural Network)\n",
        "model_5 = Sequential([\n",
        "  Conv2D(10, 3, activation='relu', input_shape=(224, 224, 3)),\n",
        "  MaxPool2D(pool_size=2), # reduce number of features by half\n",
        "  Conv2D(10, 3, activation='relu'),\n",
        "  MaxPool2D(),\n",
        "  Conv2D(10, 3, activation='relu'),\n",
        "  MaxPool2D(),\n",
        "  Flatten(),\n",
        "  Dense(1, activation='sigmoid')\n",
        "])"
      ],
      "metadata": {
        "id": "aDNEwpU_YqxE"
      },
      "execution_count": null,
      "outputs": []
    },
    {
      "cell_type": "code",
      "source": [
        "# Compile model (same as model_4)\n",
        "model_5.compile(loss='binary_crossentropy',\n",
        "                optimizer=Adam(),\n",
        "                metrics=['accuracy'])"
      ],
      "metadata": {
        "id": "iDODADQDZO_3"
      },
      "execution_count": null,
      "outputs": []
    },
    {
      "cell_type": "code",
      "source": [
        "# Fit the model\n",
        "history_5 = model_5.fit(train_data,\n",
        "                        epochs=5,\n",
        "                        steps_per_epoch=len(train_data),\n",
        "                        validation_data=test_data,\n",
        "                        validation_steps=len(test_data))"
      ],
      "metadata": {
        "colab": {
          "base_uri": "https://localhost:8080/"
        },
        "id": "QBvogPFWZR2y",
        "outputId": "f4ccd804-716f-42cf-ebba-b4167149191a"
      },
      "execution_count": null,
      "outputs": [
        {
          "output_type": "stream",
          "name": "stdout",
          "text": [
            "Epoch 1/5\n",
            "1/1 [==============================] - 2s 2s/step - loss: 0.7198 - accuracy: 0.5000 - val_loss: 0.7580 - val_accuracy: 0.5000\n",
            "Epoch 2/5\n",
            "1/1 [==============================] - 1s 635ms/step - loss: 0.7495 - accuracy: 0.5000 - val_loss: 0.7131 - val_accuracy: 0.5000\n",
            "Epoch 3/5\n",
            "1/1 [==============================] - 1s 777ms/step - loss: 0.6897 - accuracy: 0.5000 - val_loss: 0.6908 - val_accuracy: 0.5000\n",
            "Epoch 4/5\n",
            "1/1 [==============================] - 1s 970ms/step - loss: 0.6581 - accuracy: 0.6667 - val_loss: 0.6889 - val_accuracy: 0.5000\n",
            "Epoch 5/5\n",
            "1/1 [==============================] - 1s 625ms/step - loss: 0.6467 - accuracy: 0.8333 - val_loss: 0.6887 - val_accuracy: 0.5000\n"
          ]
        }
      ]
    },
    {
      "cell_type": "code",
      "source": [
        "# Check out the model architecture\n",
        "model_5.summary()"
      ],
      "metadata": {
        "colab": {
          "base_uri": "https://localhost:8080/"
        },
        "id": "KOCps5EFZTut",
        "outputId": "e3332cfc-99a6-402b-c0d2-a51aa2f715bc"
      },
      "execution_count": null,
      "outputs": [
        {
          "output_type": "stream",
          "name": "stdout",
          "text": [
            "Model: \"sequential_4\"\n",
            "_________________________________________________________________\n",
            " Layer (type)                Output Shape              Param #   \n",
            "=================================================================\n",
            " conv2d_7 (Conv2D)           (None, 222, 222, 10)      280       \n",
            "                                                                 \n",
            " max_pooling2d_2 (MaxPooling  (None, 111, 111, 10)     0         \n",
            " 2D)                                                             \n",
            "                                                                 \n",
            " conv2d_8 (Conv2D)           (None, 109, 109, 10)      910       \n",
            "                                                                 \n",
            " max_pooling2d_3 (MaxPooling  (None, 54, 54, 10)       0         \n",
            " 2D)                                                             \n",
            "                                                                 \n",
            " conv2d_9 (Conv2D)           (None, 52, 52, 10)        910       \n",
            "                                                                 \n",
            " max_pooling2d_4 (MaxPooling  (None, 26, 26, 10)       0         \n",
            " 2D)                                                             \n",
            "                                                                 \n",
            " flatten_4 (Flatten)         (None, 6760)              0         \n",
            "                                                                 \n",
            " dense_9 (Dense)             (None, 1)                 6761      \n",
            "                                                                 \n",
            "=================================================================\n",
            "Total params: 8,861\n",
            "Trainable params: 8,861\n",
            "Non-trainable params: 0\n",
            "_________________________________________________________________\n"
          ]
        }
      ]
    },
    {
      "cell_type": "code",
      "source": [
        "# Plot loss curves of model_5 results\n",
        "plot_loss_curves(history_5)"
      ],
      "metadata": {
        "colab": {
          "base_uri": "https://localhost:8080/",
          "height": 573
        },
        "id": "CGA6qQOrZVtX",
        "outputId": "f107b9e9-bbf2-4a68-b60c-31ca2e163e77"
      },
      "execution_count": null,
      "outputs": [
        {
          "output_type": "display_data",
          "data": {
            "text/plain": [
              "<Figure size 432x288 with 1 Axes>"
            ],
            "image/png": "[encoded data removed]"
          },
          "metadata": {
            "needs_background": "light"
          }
        },
        {
          "output_type": "display_data",
          "data": {
            "text/plain": [
              "<Figure size 432x288 with 1 Axes>"
            ],
            "image/png": "[encoded data removed]"
          },
          "metadata": {
            "needs_background": "light"
          }
        }
      ]
    },
    {
      "cell_type": "code",
      "source": [
        "# Create ImageDataGenerator training instance with data augmentation\n",
        "train_datagen_augmented = ImageDataGenerator(rescale=1/255.,\n",
        "                                             rotation_range=20, # rotate the image slightly between 0 and 20 degrees (note: this is an int not a float)\n",
        "                                             shear_range=0.2, # shear the image\n",
        "                                             zoom_range=0.2, # zoom into the image\n",
        "                                             width_shift_range=0.2, # shift the image width ways\n",
        "                                             height_shift_range=0.2, # shift the image height ways\n",
        "                                             horizontal_flip=True) # flip the image on the horizontal axis\n",
        "\n",
        "# Create ImageDataGenerator training instance without data augmentation\n",
        "train_datagen = ImageDataGenerator(rescale=1/255.) \n",
        "\n",
        "# Create ImageDataGenerator test instance without data augmentation\n",
        "test_datagen = ImageDataGenerator(rescale=1/255.)"
      ],
      "metadata": {
        "id": "8Hqs8ZvnZX7J"
      },
      "execution_count": null,
      "outputs": []
    },
    {
      "cell_type": "code",
      "source": [
        "# Import data and augment it from training directory\n",
        "print(\"Augmented training images:\")\n",
        "train_data_augmented = train_datagen_augmented.flow_from_directory(train_dir,\n",
        "                                                                   target_size=(224, 224),\n",
        "                                                                   batch_size=32,\n",
        "                                                                   class_mode='binary',\n",
        "                                                                   shuffle=False) # Don't shuffle for demonstration purposes, usually a good thing to shuffle\n",
        "\n",
        "# Create non-augmented data batches\n",
        "print(\"Non-augmented training images:\")\n",
        "train_data = train_datagen.flow_from_directory(train_dir,\n",
        "                                               target_size=(224, 224),\n",
        "                                               batch_size=32,\n",
        "                                               class_mode='binary',\n",
        "                                               shuffle=False) # Don't shuffle for demonstration purposes\n",
        "\n",
        "print(\"Unchanged test images:\")\n",
        "test_data = test_datagen.flow_from_directory(test_dir,\n",
        "                                             target_size=(224, 224),\n",
        "                                             batch_size=32,\n",
        "                                             class_mode='binary')"
      ],
      "metadata": {
        "colab": {
          "base_uri": "https://localhost:8080/"
        },
        "id": "kQS-aRpFZaFx",
        "outputId": "eaaf6aa9-594e-474a-f042-cea14d66fea6"
      },
      "execution_count": null,
      "outputs": [
        {
          "output_type": "stream",
          "name": "stdout",
          "text": [
            "Augmented training images:\n",
            "Found 6 images belonging to 2 classes.\n",
            "Non-augmented training images:\n",
            "Found 6 images belonging to 2 classes.\n",
            "Unchanged test images:\n",
            "Found 6 images belonging to 2 classes.\n"
          ]
        }
      ]
    },
    {
      "cell_type": "code",
      "source": [
        "# Get data batch samples\n",
        "images, labels = train_data.next()\n",
        "augmented_images, augmented_labels = train_data_augmented.next() # Note: labels aren't augmented, they stay the same"
      ],
      "metadata": {
        "id": "ynvDjvmmZcIo"
      },
      "execution_count": null,
      "outputs": []
    },
    {
      "cell_type": "code",
      "source": [
        "# Show original image and augmented image\n",
        "random_number = random.randint(0, 32) # we're making batches of size 32, so we'll get a random instance\n",
        "plt.imshow(images[random_number])\n",
        "plt.title(f\"Original image\")\n",
        "plt.axis(False)\n",
        "plt.figure()\n",
        "plt.imshow(augmented_images[random_number])\n",
        "plt.title(f\"Augmented image\")\n",
        "plt.axis(False);"
      ],
      "metadata": {
        "colab": {
          "base_uri": "https://localhost:8080/",
          "height": 246
        },
        "id": "5hX-Esd-ZdnU",
        "outputId": "e5630f52-ab4c-492e-b131-d5ce9d71bd80"
      },
      "execution_count": null,
      "outputs": [
        {
          "output_type": "error",
          "ename": "IndexError",
          "evalue": "ignored",
          "traceback": [
            "\u001b[0;31m---------------------------------------------------------------------------\u001b[0m",
            "\u001b[0;31mIndexError\u001b[0m                                Traceback (most recent call last)",
            "\u001b[0;32m<ipython-input-43-bb6e55c27511>\u001b[0m in \u001b[0;36m<module>\u001b[0;34m()\u001b[0m\n\u001b[1;32m      1\u001b[0m \u001b[0;31m# Show original image and augmented image\u001b[0m\u001b[0;34m\u001b[0m\u001b[0;34m\u001b[0m\u001b[0;34m\u001b[0m\u001b[0m\n\u001b[1;32m      2\u001b[0m \u001b[0mrandom_number\u001b[0m \u001b[0;34m=\u001b[0m \u001b[0mrandom\u001b[0m\u001b[0;34m.\u001b[0m\u001b[0mrandint\u001b[0m\u001b[0;34m(\u001b[0m\u001b[0;36m0\u001b[0m\u001b[0;34m,\u001b[0m \u001b[0;36m32\u001b[0m\u001b[0;34m)\u001b[0m \u001b[0;31m# we're making batches of size 32, so we'll get a random instance\u001b[0m\u001b[0;34m\u001b[0m\u001b[0;34m\u001b[0m\u001b[0m\n\u001b[0;32m----> 3\u001b[0;31m \u001b[0mplt\u001b[0m\u001b[0;34m.\u001b[0m\u001b[0mimshow\u001b[0m\u001b[0;34m(\u001b[0m\u001b[0mimages\u001b[0m\u001b[0;34m[\u001b[0m\u001b[0mrandom_number\u001b[0m\u001b[0;34m]\u001b[0m\u001b[0;34m)\u001b[0m\u001b[0;34m\u001b[0m\u001b[0;34m\u001b[0m\u001b[0m\n\u001b[0m\u001b[1;32m      4\u001b[0m \u001b[0mplt\u001b[0m\u001b[0;34m.\u001b[0m\u001b[0mtitle\u001b[0m\u001b[0;34m(\u001b[0m\u001b[0;34mf\"Original image\"\u001b[0m\u001b[0;34m)\u001b[0m\u001b[0;34m\u001b[0m\u001b[0;34m\u001b[0m\u001b[0m\n\u001b[1;32m      5\u001b[0m \u001b[0mplt\u001b[0m\u001b[0;34m.\u001b[0m\u001b[0maxis\u001b[0m\u001b[0;34m(\u001b[0m\u001b[0;32mFalse\u001b[0m\u001b[0;34m)\u001b[0m\u001b[0;34m\u001b[0m\u001b[0;34m\u001b[0m\u001b[0m\n",
            "\u001b[0;31mIndexError\u001b[0m: index 32 is out of bounds for axis 0 with size 6"
          ]
        }
      ]
    },
    {
      "cell_type": "code",
      "source": [
        "# Create the model (same as model_5)\n",
        "model_6 = Sequential([\n",
        "  Conv2D(10, 3, activation='relu', input_shape=(224, 224, 3)),\n",
        "  MaxPool2D(pool_size=2), # reduce number of features by half\n",
        "  Conv2D(10, 3, activation='relu'),\n",
        "  MaxPool2D(),\n",
        "  Conv2D(10, 3, activation='relu'),\n",
        "  MaxPool2D(),\n",
        "  Flatten(),\n",
        "  Dense(1, activation='sigmoid')\n",
        "])\n",
        "\n",
        "# Compile the model\n",
        "model_6.compile(loss='binary_crossentropy',\n",
        "                optimizer=Adam(),\n",
        "                metrics=['accuracy'])\n",
        "\n",
        "# Fit the model\n",
        "history_6 = model_6.fit(train_data_augmented, # changed to augmented training data\n",
        "                        epochs=5,\n",
        "                        steps_per_epoch=len(train_data_augmented),\n",
        "                        validation_data=test_data,\n",
        "                        validation_steps=len(test_data))"
      ],
      "metadata": {
        "colab": {
          "base_uri": "https://localhost:8080/"
        },
        "id": "SFMHaZJ8Zf3p",
        "outputId": "f9af799c-5937-462a-c492-f96fb2276ee2"
      },
      "execution_count": null,
      "outputs": [
        {
          "output_type": "stream",
          "name": "stdout",
          "text": [
            "Epoch 1/5\n",
            "1/1 [==============================] - 2s 2s/step - loss: 0.6926 - accuracy: 0.5000 - val_loss: 0.6975 - val_accuracy: 0.3333\n",
            "Epoch 2/5\n",
            "1/1 [==============================] - 1s 676ms/step - loss: 0.6888 - accuracy: 0.5000 - val_loss: 0.6974 - val_accuracy: 0.3333\n",
            "Epoch 3/5\n",
            "1/1 [==============================] - 1s 1s/step - loss: 0.7007 - accuracy: 0.5000 - val_loss: 0.6964 - val_accuracy: 0.5000\n",
            "Epoch 4/5\n",
            "1/1 [==============================] - 1s 774ms/step - loss: 0.6718 - accuracy: 0.6667 - val_loss: 0.6970 - val_accuracy: 0.5000\n",
            "Epoch 5/5\n",
            "1/1 [==============================] - 1s 665ms/step - loss: 0.6696 - accuracy: 0.6667 - val_loss: 0.6956 - val_accuracy: 0.6667\n"
          ]
        }
      ]
    },
    {
      "cell_type": "code",
      "source": [
        "# Check model's performance history training on augmented data\n",
        "plot_loss_curves(history_6)"
      ],
      "metadata": {
        "colab": {
          "base_uri": "https://localhost:8080/",
          "height": 573
        },
        "id": "gp3ZbCYrZiZC",
        "outputId": "8ff714ec-aeae-46de-c976-7ed18ba1eb58"
      },
      "execution_count": null,
      "outputs": [
        {
          "output_type": "display_data",
          "data": {
            "text/plain": [
              "<Figure size 432x288 with 1 Axes>"
            ],
            "image/png": "[encoded data removed]"
          },
          "metadata": {
            "needs_background": "light"
          }
        },
        {
          "output_type": "display_data",
          "data": {
            "text/plain": [
              "<Figure size 432x288 with 1 Axes>"
            ],
            "image/png": "[encoded data removed]"
          },
          "metadata": {
            "needs_background": "light"
          }
        }
      ]
    },
    {
      "cell_type": "code",
      "source": [
        "# Import data and augment it from directories\n",
        "train_data_augmented_shuffled = train_datagen_augmented.flow_from_directory(train_dir,\n",
        "                                                                            target_size=(224, 224),\n",
        "                                                                            batch_size=32,\n",
        "                                                                            class_mode='binary',\n",
        "                                                                            shuffle=True) # Shuffle data (default)"
      ],
      "metadata": {
        "colab": {
          "base_uri": "https://localhost:8080/"
        },
        "id": "wkHgQvuUZkaW",
        "outputId": "8357729c-c8c5-47e7-98ee-f930b949d028"
      },
      "execution_count": null,
      "outputs": [
        {
          "output_type": "stream",
          "name": "stdout",
          "text": [
            "Found 6 images belonging to 2 classes.\n"
          ]
        }
      ]
    },
    {
      "cell_type": "code",
      "source": [
        "# Create the model (same as model_5 and model_6)\n",
        "model_7 = Sequential([\n",
        "  Conv2D(10, 3, activation='relu', input_shape=(224, 224, 3)),\n",
        "  MaxPool2D(),\n",
        "  Conv2D(10, 3, activation='relu'),\n",
        "  MaxPool2D(),\n",
        "  Conv2D(10, 3, activation='relu'),\n",
        "  MaxPool2D(),\n",
        "  Flatten(),\n",
        "  Dense(1, activation='sigmoid')\n",
        "])\n",
        "\n",
        "# Compile the model\n",
        "model_7.compile(loss='binary_crossentropy',\n",
        "                optimizer=Adam(),\n",
        "                metrics=['accuracy'])\n",
        "\n",
        "# Fit the model\n",
        "history_7 = model_7.fit(train_data_augmented_shuffled, # now the augmented data is shuffled\n",
        "                        epochs=5,\n",
        "                        steps_per_epoch=len(train_data_augmented_shuffled),\n",
        "                        validation_data=test_data,\n",
        "                        validation_steps=len(test_data))"
      ],
      "metadata": {
        "colab": {
          "base_uri": "https://localhost:8080/"
        },
        "id": "nmLSOvifZoDD",
        "outputId": "d92eddfd-61bd-4226-a69c-a07159f35a0a"
      },
      "execution_count": null,
      "outputs": [
        {
          "output_type": "stream",
          "name": "stdout",
          "text": [
            "Epoch 1/5\n",
            "1/1 [==============================] - 1s 1s/step - loss: 0.6999 - accuracy: 0.5000 - val_loss: 0.6937 - val_accuracy: 0.6667\n",
            "Epoch 2/5\n",
            "1/1 [==============================] - 0s 384ms/step - loss: 0.6787 - accuracy: 0.6667 - val_loss: 0.6863 - val_accuracy: 0.6667\n",
            "Epoch 3/5\n",
            "1/1 [==============================] - 0s 368ms/step - loss: 0.6662 - accuracy: 0.8333 - val_loss: 0.6768 - val_accuracy: 0.6667\n",
            "Epoch 4/5\n",
            "1/1 [==============================] - 0s 375ms/step - loss: 0.6559 - accuracy: 0.6667 - val_loss: 0.6693 - val_accuracy: 0.6667\n",
            "Epoch 5/5\n",
            "1/1 [==============================] - 0s 363ms/step - loss: 0.6446 - accuracy: 0.8333 - val_loss: 0.6558 - val_accuracy: 0.6667\n"
          ]
        }
      ]
    },
    {
      "cell_type": "code",
      "source": [
        "# Check model's performance history training on augmented data\n",
        "plot_loss_curves(history_7)"
      ],
      "metadata": {
        "colab": {
          "base_uri": "https://localhost:8080/",
          "height": 573
        },
        "id": "eYa0BIrMZp-x",
        "outputId": "7ac30758-238a-47f8-c61b-a017a6f3800c"
      },
      "execution_count": null,
      "outputs": [
        {
          "output_type": "display_data",
          "data": {
            "text/plain": [
              "<Figure size 432x288 with 1 Axes>"
            ],
            "image/png": "[encoded data removed]"
          },
          "metadata": {
            "needs_background": "light"
          }
        },
        {
          "output_type": "display_data",
          "data": {
            "text/plain": [
              "<Figure size 432x288 with 1 Axes>"
            ],
            "image/png": "[encoded data removed]"
          },
          "metadata": {
            "needs_background": "light"
          }
        }
      ]
    },
    {
      "cell_type": "markdown",
      "source": [
        "### 7. Repeat until satisified"
      ],
      "metadata": {
        "id": "6o7Xa8n0bN0L"
      }
    },
    {
      "cell_type": "code",
      "source": [
        "# Create a CNN model (same as Tiny VGG but for binary classification - https://poloclub.github.io/cnn-explainer/ )\n",
        "model_8 = Sequential([\n",
        "  Conv2D(10, 3, activation='relu', input_shape=(224, 224, 3)), # same input shape as our images\n",
        "  Conv2D(10, 3, activation='relu'),\n",
        "  MaxPool2D(),\n",
        "  Conv2D(10, 3, activation='relu'),\n",
        "  Conv2D(10, 3, activation='relu'),\n",
        "  MaxPool2D(),\n",
        "  Flatten(),\n",
        "  Dense(1, activation='sigmoid')\n",
        "])\n",
        "\n",
        "# Compile the model\n",
        "model_8.compile(loss=\"binary_crossentropy\",\n",
        "                optimizer=tf.keras.optimizers.Adam(),\n",
        "                metrics=[\"accuracy\"])\n",
        "\n",
        "# Fit the model\n",
        "history_8 = model_8.fit(train_data_augmented_shuffled,\n",
        "                        epochs=5,\n",
        "                        steps_per_epoch=len(train_data_augmented_shuffled),\n",
        "                        validation_data=test_data,\n",
        "                        validation_steps=len(test_data))"
      ],
      "metadata": {
        "colab": {
          "base_uri": "https://localhost:8080/"
        },
        "id": "AlrQlmEobOq3",
        "outputId": "2922f4fb-3d7d-4aba-d692-bc96a17c1831"
      },
      "execution_count": null,
      "outputs": [
        {
          "output_type": "stream",
          "name": "stdout",
          "text": [
            "Epoch 1/5\n",
            "1/1 [==============================] - 1s 1s/step - loss: 0.6908 - accuracy: 0.5000 - val_loss: 0.6967 - val_accuracy: 0.5000\n",
            "Epoch 2/5\n",
            "1/1 [==============================] - 1s 628ms/step - loss: 0.6876 - accuracy: 0.5000 - val_loss: 0.6968 - val_accuracy: 0.5000\n",
            "Epoch 3/5\n",
            "1/1 [==============================] - 1s 641ms/step - loss: 0.6853 - accuracy: 0.5000 - val_loss: 0.6956 - val_accuracy: 0.5000\n",
            "Epoch 4/5\n",
            "1/1 [==============================] - 1s 612ms/step - loss: 0.6716 - accuracy: 0.5000 - val_loss: 0.6956 - val_accuracy: 0.5000\n",
            "Epoch 5/5\n",
            "1/1 [==============================] - 1s 615ms/step - loss: 0.6532 - accuracy: 1.0000 - val_loss: 0.7138 - val_accuracy: 0.5000\n"
          ]
        }
      ]
    },
    {
      "cell_type": "code",
      "source": [
        "# Check model_1 architecture (same as model_8)\n",
        "model_1.summary()"
      ],
      "metadata": {
        "colab": {
          "base_uri": "https://localhost:8080/"
        },
        "id": "CzvTSPCObTpE",
        "outputId": "85f08090-9ce7-4e6f-af33-1bfd063daa0b"
      },
      "execution_count": null,
      "outputs": [
        {
          "output_type": "stream",
          "name": "stdout",
          "text": [
            "Model: \"sequential\"\n",
            "_________________________________________________________________\n",
            " Layer (type)                Output Shape              Param #   \n",
            "=================================================================\n",
            " conv2d (Conv2D)             (None, 222, 222, 10)      280       \n",
            "                                                                 \n",
            " conv2d_1 (Conv2D)           (None, 220, 220, 10)      910       \n",
            "                                                                 \n",
            " max_pooling2d (MaxPooling2D  (None, 110, 110, 10)     0         \n",
            " )                                                               \n",
            "                                                                 \n",
            " conv2d_2 (Conv2D)           (None, 108, 108, 10)      910       \n",
            "                                                                 \n",
            " conv2d_3 (Conv2D)           (None, 106, 106, 10)      910       \n",
            "                                                                 \n",
            " max_pooling2d_1 (MaxPooling  (None, 53, 53, 10)       0         \n",
            " 2D)                                                             \n",
            "                                                                 \n",
            " flatten (Flatten)           (None, 28090)             0         \n",
            "                                                                 \n",
            " dense (Dense)               (None, 1)                 28091     \n",
            "                                                                 \n",
            "=================================================================\n",
            "Total params: 31,101\n",
            "Trainable params: 31,101\n",
            "Non-trainable params: 0\n",
            "_________________________________________________________________\n"
          ]
        }
      ]
    },
    {
      "cell_type": "code",
      "source": [
        "# Check model_8 architecture (same as model_1)\n",
        "model_8.summary()"
      ],
      "metadata": {
        "colab": {
          "base_uri": "https://localhost:8080/"
        },
        "id": "t1d2bk7dbXdV",
        "outputId": "d243f726-ab02-4302-c226-167ca5f2a9e4"
      },
      "execution_count": null,
      "outputs": [
        {
          "output_type": "stream",
          "name": "stdout",
          "text": [
            "Model: \"sequential_7\"\n",
            "_________________________________________________________________\n",
            " Layer (type)                Output Shape              Param #   \n",
            "=================================================================\n",
            " conv2d_16 (Conv2D)          (None, 222, 222, 10)      280       \n",
            "                                                                 \n",
            " conv2d_17 (Conv2D)          (None, 220, 220, 10)      910       \n",
            "                                                                 \n",
            " max_pooling2d_11 (MaxPoolin  (None, 110, 110, 10)     0         \n",
            " g2D)                                                            \n",
            "                                                                 \n",
            " conv2d_18 (Conv2D)          (None, 108, 108, 10)      910       \n",
            "                                                                 \n",
            " conv2d_19 (Conv2D)          (None, 106, 106, 10)      910       \n",
            "                                                                 \n",
            " max_pooling2d_12 (MaxPoolin  (None, 53, 53, 10)       0         \n",
            " g2D)                                                            \n",
            "                                                                 \n",
            " flatten_7 (Flatten)         (None, 28090)             0         \n",
            "                                                                 \n",
            " dense_12 (Dense)            (None, 1)                 28091     \n",
            "                                                                 \n",
            "=================================================================\n",
            "Total params: 31,101\n",
            "Trainable params: 31,101\n",
            "Non-trainable params: 0\n",
            "_________________________________________________________________\n"
          ]
        }
      ]
    },
    {
      "cell_type": "code",
      "source": [
        "# Check out the TinyVGG model performance\n",
        "plot_loss_curves(history_8)"
      ],
      "metadata": {
        "colab": {
          "base_uri": "https://localhost:8080/",
          "height": 573
        },
        "id": "_-k1ZrJ0bZSZ",
        "outputId": "14fd7542-bcd9-4758-c779-a20fe9213512"
      },
      "execution_count": null,
      "outputs": [
        {
          "output_type": "display_data",
          "data": {
            "text/plain": [
              "<Figure size 432x288 with 1 Axes>"
            ],
            "image/png": "[encoded data removed]"
          },
          "metadata": {
            "needs_background": "light"
          }
        },
        {
          "output_type": "display_data",
          "data": {
            "text/plain": [
              "<Figure size 432x288 with 1 Axes>"
            ],
            "image/png": "[encoded data removed]"
          },
          "metadata": {
            "needs_background": "light"
          }
        }
      ]
    },
    {
      "cell_type": "code",
      "source": [
        "# How does this training curve look compared to the one above?\n",
        "plot_loss_curves(history_1)"
      ],
      "metadata": {
        "colab": {
          "base_uri": "https://localhost:8080/",
          "height": 573
        },
        "id": "LsAarjALba_8",
        "outputId": "efb928e6-a058-43a9-ed7d-f53b3b5942cd"
      },
      "execution_count": null,
      "outputs": [
        {
          "output_type": "display_data",
          "data": {
            "text/plain": [
              "<Figure size 432x288 with 1 Axes>"
            ],
            "image/png": "[encoded data removed]"
          },
          "metadata": {
            "needs_background": "light"
          }
        },
        {
          "output_type": "display_data",
          "data": {
            "text/plain": [
              "<Figure size 432x288 with 1 Axes>"
            ],
            "image/png": "[encoded data removed]"
          },
          "metadata": {
            "needs_background": "light"
          }
        }
      ]
    },
    {
      "cell_type": "markdown",
      "source": [
        "### Making a prediction with our trained model"
      ],
      "metadata": {
        "id": "Xu_4gFlpbePG"
      }
    },
    {
      "cell_type": "code",
      "source": [
        "# Classes we're working with\n",
        "print(class_names)"
      ],
      "metadata": {
        "colab": {
          "base_uri": "https://localhost:8080/"
        },
        "id": "VKYPyvqubgOA",
        "outputId": "6e6d4666-441b-4688-bc4a-0034dec549f2"
      },
      "execution_count": null,
      "outputs": [
        {
          "output_type": "stream",
          "name": "stdout",
          "text": [
            "['gempa_lain' 'volcanic']\n"
          ]
        }
      ]
    },
    {
      "cell_type": "code",
      "source": [
        "# View our example image\n",
        "!wget https://raw.githubusercontent.com/kRuvpin/KCBV_Mamang/main/sesaceh.jpg\n",
        "gempa = mpimg.imread(\"sesaceh.jpg\")\n",
        "plt.imshow(gempa)\n",
        "plt.axis(False);"
      ],
      "metadata": {
        "colab": {
          "base_uri": "https://localhost:8080/",
          "height": 281
        },
        "id": "FsVpiRqSbiO0",
        "outputId": "dfa6c460-2e47-4490-bf21-36f414285817"
      },
      "execution_count": null,
      "outputs": [
        {
          "output_type": "stream",
          "name": "stdout",
          "text": [
            "--2022-06-30 14:43:31--  https://raw.githubusercontent.com/kRuvpin/KCBV_Mamang/main/sesaceh.jpg\n",
            "Resolving raw.githubusercontent.com (raw.githubusercontent.com)... 185.199.108.133, 185.199.109.133, 185.199.110.133, ...\n",
            "Connecting to raw.githubusercontent.com (raw.githubusercontent.com)|185.199.108.133|:443... connected.\n",
            "HTTP request sent, awaiting response... 200 OK\n",
            "Length: 11673 (11K) [image/jpeg]\n",
            "Saving to: ‘sesaceh.jpg’\n",
            "\n",
            "\rsesaceh.jpg           0%[                    ]       0  --.-KB/s               \rsesaceh.jpg         100%[===================>]  11.40K  --.-KB/s    in 0s      \n",
            "\n",
            "2022-06-30 14:43:31 (99.8 MB/s) - ‘sesaceh.jpg’ saved [11673/11673]\n",
            "\n"
          ]
        },
        {
          "output_type": "display_data",
          "data": {
            "text/plain": [
              "<Figure size 432x288 with 1 Axes>"
            ],
            "image/png": "[encoded data removed]"
          },
          "metadata": {
            "needs_background": "light"
          }
        }
      ]
    },
    {
      "cell_type": "code",
      "source": [
        "# Check the shape of our image\n",
        "gempa.shape"
      ],
      "metadata": {
        "colab": {
          "base_uri": "https://localhost:8080/"
        },
        "id": "q9GY7dKIbj_R",
        "outputId": "c472dc8d-d098-4393-e01f-90b1b5c8146c"
      },
      "execution_count": null,
      "outputs": [
        {
          "output_type": "execute_result",
          "data": {
            "text/plain": [
              "(76, 535, 3)"
            ]
          },
          "metadata": {},
          "execution_count": 56
        }
      ]
    },
    {
      "cell_type": "code",
      "source": [
        "# Create a function to import an image and resize it to be able to be used with our model\n",
        "def load_and_prep_image(filename, img_shape=224):\n",
        "  \"\"\"\n",
        "  Reads an image from filename, turns it into a tensor\n",
        "  and reshapes it to (img_shape, img_shape, colour_channel).\n",
        "  \"\"\"\n",
        "  # Read in target file (an image)\n",
        "  img = tf.io.read_file(filename)\n",
        "\n",
        "  # Decode the read file into a tensor & ensure 3 colour channels \n",
        "  # (our model is trained on images with 3 colour channels and sometimes images have 4 colour channels)\n",
        "  img = tf.image.decode_image(img, channels=3)\n",
        "\n",
        "  # Resize the image (to the same size our model was trained on)\n",
        "  img = tf.image.resize(img, size = [img_shape, img_shape])\n",
        "\n",
        "  # Rescale the image (get all values between 0 and 1)\n",
        "  img = img/255.\n",
        "  return img"
      ],
      "metadata": {
        "id": "PTCUoH-PblbS"
      },
      "execution_count": null,
      "outputs": []
    },
    {
      "cell_type": "code",
      "source": [
        "# Load in and preprocess our custom image\n",
        "gempa = load_and_prep_image(\"sesaceh.jpg\")\n",
        "gempa"
      ],
      "metadata": {
        "colab": {
          "base_uri": "https://localhost:8080/"
        },
        "id": "GzVLL8wYbo9T",
        "outputId": "4050d612-59fc-4fa3-b955-4c8dc8663d0d"
      },
      "execution_count": null,
      "outputs": [
        {
          "output_type": "execute_result",
          "data": {
            "text/plain": [
              "<tf.Tensor: shape=(224, 224, 3), dtype=float32, numpy=\n",
              "array([[[0.7027311 , 0.7027311 , 0.7027311 ],\n",
              "        [0.81993175, 0.81993175, 0.81993175],\n",
              "        [0.8269958 , 0.8269958 , 0.8269958 ],\n",
              "        ...,\n",
              "        [0.8235294 , 0.8235294 , 0.8235294 ],\n",
              "        [0.8235294 , 0.8235294 , 0.8235294 ],\n",
              "        [0.8235294 , 0.8235294 , 0.8235294 ]],\n",
              "\n",
              "       [[0.7027311 , 0.7027311 , 0.7027311 ],\n",
              "        [0.81993175, 0.81993175, 0.81993175],\n",
              "        [0.8269958 , 0.8269958 , 0.8269958 ],\n",
              "        ...,\n",
              "        [0.8235294 , 0.8235294 , 0.8235294 ],\n",
              "        [0.8235294 , 0.8235294 , 0.8235294 ],\n",
              "        [0.8235294 , 0.8235294 , 0.8235294 ]],\n",
              "\n",
              "       [[0.7027311 , 0.7027311 , 0.7027311 ],\n",
              "        [0.81993175, 0.81993175, 0.81993175],\n",
              "        [0.8269958 , 0.8269958 , 0.8269958 ],\n",
              "        ...,\n",
              "        [0.8235294 , 0.8235294 , 0.8235294 ],\n",
              "        [0.8235294 , 0.8235294 , 0.8235294 ],\n",
              "        [0.8235294 , 0.8235294 , 0.8235294 ]],\n",
              "\n",
              "       ...,\n",
              "\n",
              "       [[0.7027311 , 0.7027311 , 0.7027311 ],\n",
              "        [0.81993175, 0.81993175, 0.81993175],\n",
              "        [0.8269958 , 0.8269958 , 0.8269958 ],\n",
              "        ...,\n",
              "        [0.81914586, 0.81914586, 0.81914586],\n",
              "        [0.83220565, 0.83220565, 0.83220565],\n",
              "        [0.27123374, 0.27123374, 0.27123374]],\n",
              "\n",
              "       [[0.7027311 , 0.7027311 , 0.7027311 ],\n",
              "        [0.81993175, 0.81993175, 0.81993175],\n",
              "        [0.8269958 , 0.8269958 , 0.8269958 ],\n",
              "        ...,\n",
              "        [0.8227509 , 0.8227509 , 0.8227509 ],\n",
              "        [0.8380892 , 0.8380892 , 0.8380892 ],\n",
              "        [0.2593826 , 0.2593826 , 0.2593826 ]],\n",
              "\n",
              "       [[0.7027311 , 0.7027311 , 0.7027311 ],\n",
              "        [0.81993175, 0.81993175, 0.81993175],\n",
              "        [0.8269958 , 0.8269958 , 0.8269958 ],\n",
              "        ...,\n",
              "        [0.8228458 , 0.8228458 , 0.8228458 ],\n",
              "        [0.83824414, 0.83824414, 0.83824414],\n",
              "        [0.25907055, 0.25907055, 0.25907055]]], dtype=float32)>"
            ]
          },
          "metadata": {},
          "execution_count": 58
        }
      ]
    },
    {
      "cell_type": "code",
      "source": [
        "# Add an extra axis\n",
        "print(f\"Shape before new dimension: {gempa.shape}\")\n",
        "gempa = tf.expand_dims(gempa, axis=0) # add an extra dimension at axis 0\n",
        "#steak = steak[tf.newaxis, ...] # alternative to the above, '...' is short for 'every other dimension'\n",
        "print(f\"Shape after new dimension: {gempa.shape}\")\n",
        "gempa"
      ],
      "metadata": {
        "colab": {
          "base_uri": "https://localhost:8080/"
        },
        "id": "X--yBAytbslt",
        "outputId": "d81f30c2-91e3-401d-b559-57203ef8b5a7"
      },
      "execution_count": null,
      "outputs": [
        {
          "output_type": "stream",
          "name": "stdout",
          "text": [
            "Shape before new dimension: (224, 224, 3)\n",
            "Shape after new dimension: (1, 224, 224, 3)\n"
          ]
        },
        {
          "output_type": "execute_result",
          "data": {
            "text/plain": [
              "<tf.Tensor: shape=(1, 224, 224, 3), dtype=float32, numpy=\n",
              "array([[[[0.7027311 , 0.7027311 , 0.7027311 ],\n",
              "         [0.81993175, 0.81993175, 0.81993175],\n",
              "         [0.8269958 , 0.8269958 , 0.8269958 ],\n",
              "         ...,\n",
              "         [0.8235294 , 0.8235294 , 0.8235294 ],\n",
              "         [0.8235294 , 0.8235294 , 0.8235294 ],\n",
              "         [0.8235294 , 0.8235294 , 0.8235294 ]],\n",
              "\n",
              "        [[0.7027311 , 0.7027311 , 0.7027311 ],\n",
              "         [0.81993175, 0.81993175, 0.81993175],\n",
              "         [0.8269958 , 0.8269958 , 0.8269958 ],\n",
              "         ...,\n",
              "         [0.8235294 , 0.8235294 , 0.8235294 ],\n",
              "         [0.8235294 , 0.8235294 , 0.8235294 ],\n",
              "         [0.8235294 , 0.8235294 , 0.8235294 ]],\n",
              "\n",
              "        [[0.7027311 , 0.7027311 , 0.7027311 ],\n",
              "         [0.81993175, 0.81993175, 0.81993175],\n",
              "         [0.8269958 , 0.8269958 , 0.8269958 ],\n",
              "         ...,\n",
              "         [0.8235294 , 0.8235294 , 0.8235294 ],\n",
              "         [0.8235294 , 0.8235294 , 0.8235294 ],\n",
              "         [0.8235294 , 0.8235294 , 0.8235294 ]],\n",
              "\n",
              "        ...,\n",
              "\n",
              "        [[0.7027311 , 0.7027311 , 0.7027311 ],\n",
              "         [0.81993175, 0.81993175, 0.81993175],\n",
              "         [0.8269958 , 0.8269958 , 0.8269958 ],\n",
              "         ...,\n",
              "         [0.81914586, 0.81914586, 0.81914586],\n",
              "         [0.83220565, 0.83220565, 0.83220565],\n",
              "         [0.27123374, 0.27123374, 0.27123374]],\n",
              "\n",
              "        [[0.7027311 , 0.7027311 , 0.7027311 ],\n",
              "         [0.81993175, 0.81993175, 0.81993175],\n",
              "         [0.8269958 , 0.8269958 , 0.8269958 ],\n",
              "         ...,\n",
              "         [0.8227509 , 0.8227509 , 0.8227509 ],\n",
              "         [0.8380892 , 0.8380892 , 0.8380892 ],\n",
              "         [0.2593826 , 0.2593826 , 0.2593826 ]],\n",
              "\n",
              "        [[0.7027311 , 0.7027311 , 0.7027311 ],\n",
              "         [0.81993175, 0.81993175, 0.81993175],\n",
              "         [0.8269958 , 0.8269958 , 0.8269958 ],\n",
              "         ...,\n",
              "         [0.8228458 , 0.8228458 , 0.8228458 ],\n",
              "         [0.83824414, 0.83824414, 0.83824414],\n",
              "         [0.25907055, 0.25907055, 0.25907055]]]], dtype=float32)>"
            ]
          },
          "metadata": {},
          "execution_count": 60
        }
      ]
    },
    {
      "cell_type": "code",
      "source": [
        "# Make a prediction on custom image tensor\n",
        "pred = model_8.predict(gempa)\n",
        "pred"
      ],
      "metadata": {
        "colab": {
          "base_uri": "https://localhost:8080/"
        },
        "id": "LhfK2Gnbbvgo",
        "outputId": "4c47b693-b363-459e-b662-0c9b88818b14"
      },
      "execution_count": null,
      "outputs": [
        {
          "output_type": "execute_result",
          "data": {
            "text/plain": [
              "array([[0.38255465]], dtype=float32)"
            ]
          },
          "metadata": {},
          "execution_count": 61
        }
      ]
    },
    {
      "cell_type": "code",
      "source": [
        "# Remind ourselves of our class names\n",
        "class_names"
      ],
      "metadata": {
        "colab": {
          "base_uri": "https://localhost:8080/"
        },
        "id": "U5nGyrOCbwBa",
        "outputId": "05b1c108-7cb8-44ae-94dc-8fb4f9e2ad28"
      },
      "execution_count": null,
      "outputs": [
        {
          "output_type": "execute_result",
          "data": {
            "text/plain": [
              "array(['gempa_lain', 'volcanic'], dtype='<U10')"
            ]
          },
          "metadata": {},
          "execution_count": 62
        }
      ]
    },
    {
      "cell_type": "code",
      "source": [
        "# We can index the predicted class by rounding the prediction probability\n",
        "pred_class = class_names[int(tf.round(pred)[0][0])]\n",
        "pred_class"
      ],
      "metadata": {
        "colab": {
          "base_uri": "https://localhost:8080/",
          "height": 36
        },
        "id": "AvVjQaU9bxhL",
        "outputId": "28facc01-eb19-40b1-da8e-124c2eeb8f91"
      },
      "execution_count": null,
      "outputs": [
        {
          "output_type": "execute_result",
          "data": {
            "text/plain": [
              "'gempa_lain'"
            ],
            "application/vnd.google.colaboratory.intrinsic+json": {
              "type": "string"
            }
          },
          "metadata": {},
          "execution_count": 63
        }
      ]
    },
    {
      "cell_type": "code",
      "source": [
        "def pred_and_plot(model, filename, class_names):\n",
        "  \"\"\"\n",
        "  Imports an image located at filename, makes a prediction on it with\n",
        "  a trained model and plots the image with the predicted class as the title.\n",
        "  \"\"\"\n",
        "  # Import the target image and preprocess it\n",
        "  img = load_and_prep_image(filename)\n",
        "\n",
        "  # Make a prediction\n",
        "  pred = model.predict(tf.expand_dims(img, axis=0))\n",
        "\n",
        "  # Get the predicted class\n",
        "  pred_class = class_names[int(tf.round(pred)[0][0])]\n",
        "\n",
        "  # Plot the image and predicted class\n",
        "  plt.imshow(img)\n",
        "  plt.title(f\"Prediction: {pred_class}\")\n",
        "  plt.axis(False);"
      ],
      "metadata": {
        "id": "rzZOvBLrby7L"
      },
      "execution_count": null,
      "outputs": []
    },
    {
      "cell_type": "code",
      "source": [
        "# Test our model on a custom image\n",
        "pred_and_plot(model_8, \"sesaceh.jpg\", class_names)"
      ],
      "metadata": {
        "colab": {
          "base_uri": "https://localhost:8080/",
          "height": 264
        },
        "id": "HYyZ00hsb1Ei",
        "outputId": "88e9db51-fc6f-416e-d2d3-40eca252e408"
      },
      "execution_count": null,
      "outputs": [
        {
          "output_type": "display_data",
          "data": {
            "text/plain": [
              "<Figure size 432x288 with 1 Axes>"
            ],
            "image/png": "[encoded data removed]"
          },
          "metadata": {
            "needs_background": "light"
          }
        }
      ]
    },
    {
      "cell_type": "code",
      "source": [
        "# Download another test image and make a prediction on it\n",
        "!wget https://raw.githubusercontent.com/kRuvpin/KCBV_Mamang/main/coba2.jpg \n",
        "pred_and_plot(model_8, \"coba2.jpg\", class_names)"
      ],
      "metadata": {
        "colab": {
          "base_uri": "https://localhost:8080/",
          "height": 467
        },
        "id": "hTi0jReSb4OL",
        "outputId": "aec2a800-fd5c-449b-8ffe-57c3dc6e5b93"
      },
      "execution_count": null,
      "outputs": [
        {
          "output_type": "stream",
          "name": "stdout",
          "text": [
            "--2022-06-30 14:49:55--  https://raw.githubusercontent.com/kRuvpin/KCBV_Mamang/main/coba2.jpg\n",
            "Resolving raw.githubusercontent.com (raw.githubusercontent.com)... 185.199.108.133, 185.199.109.133, 185.199.110.133, ...\n",
            "Connecting to raw.githubusercontent.com (raw.githubusercontent.com)|185.199.108.133|:443... connected.\n",
            "HTTP request sent, awaiting response... 200 OK\n",
            "Length: 13294 (13K) [image/jpeg]\n",
            "Saving to: ‘coba2.jpg’\n",
            "\n",
            "\rcoba2.jpg             0%[                    ]       0  --.-KB/s               \rcoba2.jpg           100%[===================>]  12.98K  --.-KB/s    in 0s      \n",
            "\n",
            "2022-06-30 14:49:55 (63.2 MB/s) - ‘coba2.jpg’ saved [13294/13294]\n",
            "\n"
          ]
        },
        {
          "output_type": "display_data",
          "data": {
            "text/plain": [
              "<Figure size 432x288 with 1 Axes>"
            ],
            "image/png": "[encoded data removed]"
          },
          "metadata": {
            "needs_background": "light"
          }
        }
      ]
    }
  ]
}